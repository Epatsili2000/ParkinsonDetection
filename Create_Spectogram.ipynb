{
  "nbformat": 4,
  "nbformat_minor": 0,
  "metadata": {
    "colab": {
      "provenance": [],
      "gpuType": "T4",
      "machine_shape": "hm",
      "mount_file_id": "1F5STyHdWJxPmSQu5im2W2K8pLCj_Ng_m",
      "authorship_tag": "ABX9TyMPfaaTNh0fWFUNz4C2fDf8",
      "include_colab_link": true
    },
    "kernelspec": {
      "name": "python3",
      "display_name": "Python 3"
    },
    "language_info": {
      "name": "python"
    },
    "accelerator": "GPU"
  },
  "cells": [
    {
      "cell_type": "markdown",
      "metadata": {
        "id": "view-in-github",
        "colab_type": "text"
      },
      "source": [
        "<a href=\"https://colab.research.google.com/github/Epatsili2000/ParkinsonDetection/blob/main/Create_Spectogram.ipynb\" target=\"_parent\"><img src=\"https://colab.research.google.com/assets/colab-badge.svg\" alt=\"Open In Colab\"/></a>"
      ]
    },
    {
      "cell_type": "markdown",
      "source": [
        "### Mel-Spectrogram Generation for CNN Input\n",
        "\n",
        "This notebook converts each `.wav` file into a fixed-size **Mel-spectrogram image** for convolutional neural network (CNN) training.\n",
        "\n",
        "####  Input\n",
        "- Source: `/PCGITA_RESULTS/pcgita_split_per_task.csv`\n",
        "- Each row contains:\n",
        "  - `Full_Path` to the `.wav` file\n",
        "  - `Task`, `Label`, and `Speaker_ID` information\n",
        "  - Target spectrogram filename constructed as:  \n",
        "    `Task/Label/Speaker_ID/filename.png`\n",
        "\n",
        "####  Processing Steps\n",
        "For each audio file:\n",
        "1. Load the waveform at 16 kHz and trim silence\n",
        "2. Compute a **128-filter Mel-spectrogram**\n",
        "3. Convert power to decibel scale (dB)\n",
        "4. Save a **224×224 pixel PNG image** using the `inferno` colormap\n",
        "5. Store the output path in the `spectrogram_path` column\n",
        "\n",
        "Spectrograms are saved under:\n",
        "/pcgita_images/mel/{Task}/{Label}/{Speaker_ID}/{filename}.png"
      ],
      "metadata": {
        "id": "0tllpHYiY8Ze"
      }
    },
    {
      "cell_type": "code",
      "source": [
        "# -------------------- SETUP --------------------\n",
        "import os\n",
        "import numpy as np\n",
        "import librosa\n",
        "import librosa.display\n",
        "import matplotlib.pyplot as plt\n",
        "import pandas as pd\n",
        "from tqdm import tqdm\n",
        "from pathlib import Path\n",
        "\n",
        "# Paths\n",
        "CSV_PATH = \"/content/drive/MyDrive/PCGITA_RESULTS/pcgita_split_per_task.csv\"\n",
        "OUT_DIR = \"/content/drive/MyDrive/pcgita_images/mel\"\n",
        "IMG_SIZE = (224, 224)  # Resize to 224x224\n",
        "COLORMAP = 'inferno'\n",
        "\n",
        "# Load CSV\n",
        "df = pd.read_csv(CSV_PATH)\n",
        "\n",
        "# Output path creation\n",
        "def get_output_path(row):\n",
        "    filename = os.path.splitext(os.path.basename(row[\"Full_Path\"]))[0] + \".png\"\n",
        "    return os.path.join(OUT_DIR, row[\"Task\"], row[\"Label\"], row[\"Speaker_ID\"], filename)\n",
        "\n",
        "df[\"spectrogram_path\"] = df.apply(get_output_path, axis=1)\n",
        "\n",
        "# -------------------- GENERATE SPECTROGRAM --------------------\n",
        "def save_mel_spectrogram(wav_path, save_path):\n",
        "    try:\n",
        "        y, sr = librosa.load(wav_path, sr=16000)\n",
        "        y, _ = librosa.effects.trim(y)\n",
        "\n",
        "        # Mel-spectrogram\n",
        "        S = librosa.feature.melspectrogram(y=y, sr=sr, n_mels=128)\n",
        "        S_dB = librosa.power_to_db(S, ref=np.max)\n",
        "\n",
        "        # Plot and save\n",
        "        plt.figure(figsize=(2.24, 2.24), dpi=100)  # → 224x224\n",
        "        librosa.display.specshow(S_dB, sr=sr, cmap=COLORMAP)\n",
        "        plt.axis(\"off\")\n",
        "        plt.tight_layout(pad=0)\n",
        "\n",
        "        os.makedirs(os.path.dirname(save_path), exist_ok=True)\n",
        "        plt.savefig(save_path, bbox_inches='tight', pad_inches=0)\n",
        "        plt.close()\n",
        "        return True\n",
        "    except Exception as e:\n",
        "        print(f\" Failed for {wav_path}: {e}\")\n",
        "        return False\n",
        "\n",
        "# -------------------- RUN BATCH GENERATION --------------------\n",
        "success_count = 0\n",
        "for _, row in tqdm(df.iterrows(), total=len(df)):\n",
        "    wav_path = row[\"Full_Path\"]\n",
        "    save_path = row[\"spectrogram_path\"]\n",
        "    if not os.path.exists(save_path):  # Avoid reprocessing\n",
        "        if save_mel_spectrogram(wav_path, save_path):\n",
        "            success_count += 1\n",
        "\n",
        "print(f\" Done! {success_count}/{len(df)} spectrograms saved.\")\n"
      ],
      "metadata": {
        "colab": {
          "base_uri": "https://localhost:8080/"
        },
        "id": "HDE1VRRcY7yz",
        "outputId": "44a86ab7-8aed-4769-8931-521ebec8c7a3"
      },
      "execution_count": null,
      "outputs": [
        {
          "output_type": "stream",
          "name": "stderr",
          "text": [
            "100%|██████████| 6412/6412 [39:00<00:00,  2.74it/s]"
          ]
        },
        {
          "output_type": "stream",
          "name": "stdout",
          "text": [
            "✅ Done! 6411/6412 spectrograms saved.\n"
          ]
        },
        {
          "output_type": "stream",
          "name": "stderr",
          "text": [
            "\n"
          ]
        }
      ]
    },
    {
      "cell_type": "code",
      "source": [
        "import os\n",
        "import pandas as pd\n",
        "import librosa\n",
        "from tqdm import tqdm\n",
        "\n",
        "# === CONFIG ===\n",
        "CSV_PATH = \"/content/drive/MyDrive/PCGITA_RESULTS/pcgita_split_per_task.csv\"\n",
        "OUTPUT_CSV = \"/content/drive/MyDrive/PCGITA_RESULTS/pcgita_split_filtered.csv\"\n",
        "SKIPPED_CSV = \"/content/drive/MyDrive/PCGITA_RESULTS/pcgita_split_skipped.csv\"\n",
        "MIN_DURATION_SEC = 0.3  # 300 ms\n",
        "SR = 16000\n",
        "\n",
        "# === Load original metadata ===\n",
        "df = pd.read_csv(CSV_PATH)\n",
        "\n",
        "# === Prepare filtered datasets ===\n",
        "valid_rows = []\n",
        "skipped_rows = []\n",
        "\n",
        "for _, row in tqdm(df.iterrows(), total=len(df)):\n",
        "    wav_path = row[\"Full_Path\"]\n",
        "\n",
        "    try:\n",
        "        if not os.path.exists(wav_path):\n",
        "            raise FileNotFoundError(\"Missing file\")\n",
        "\n",
        "        y, sr = librosa.load(wav_path, sr=SR)\n",
        "        duration = len(y) / sr\n",
        "\n",
        "        if duration >= MIN_DURATION_SEC:\n",
        "            valid_rows.append(row)\n",
        "        else:\n",
        "            row[\"reason\"] = f\"Too short ({duration:.2f}s)\"\n",
        "            skipped_rows.append(row)\n",
        "\n",
        "    except Exception as e:\n",
        "        row[\"reason\"] = str(e)\n",
        "        skipped_rows.append(row)\n",
        "\n",
        "# === Save filtered and skipped CSVs ===\n",
        "df_valid = pd.DataFrame(valid_rows)\n",
        "df_skipped = pd.DataFrame(skipped_rows)\n",
        "\n",
        "df_valid.to_csv(OUTPUT_CSV, index=False)\n",
        "df_skipped.to_csv(SKIPPED_CSV, index=False)\n",
        "\n",
        "print(f\" Filtered CSV saved: {OUTPUT_CSV} ({len(df_valid)} valid samples)\")\n",
        "print(f\" Skipped CSV saved: {SKIPPED_CSV} ({len(df_skipped)} skipped samples)\")\n"
      ],
      "metadata": {
        "colab": {
          "base_uri": "https://localhost:8080/"
        },
        "id": "rFEDnBuPRKFC",
        "outputId": "f6b5b014-f1bc-49c4-937d-631bd1a8ec38"
      },
      "execution_count": null,
      "outputs": [
        {
          "output_type": "stream",
          "name": "stderr",
          "text": [
            "100%|██████████| 6412/6412 [00:30<00:00, 209.98it/s]\n"
          ]
        },
        {
          "output_type": "stream",
          "name": "stdout",
          "text": [
            "✅ Filtered CSV saved: /content/drive/MyDrive/PCGITA_RESULTS/pcgita_split_filtered.csv (6405 valid samples)\n",
            "⚠️ Skipped CSV saved: /content/drive/MyDrive/PCGITA_RESULTS/pcgita_split_skipped.csv (7 skipped samples)\n"
          ]
        }
      ]
    },
    {
      "cell_type": "markdown",
      "source": [
        "### Filtering Invalid Audio Files\n",
        "\n",
        "This notebook filters out audio samples that are too short or corrupted, ensuring only high-quality inputs are used in training.\n",
        "\n",
        "####  Filtering Criteria:\n",
        "- Each `.wav` file is checked for:\n",
        "  - **Existence** on disk\n",
        "  - **Minimum duration** of 300 milliseconds\n",
        "\n",
        "####  Output:\n",
        "Two CSV files are created:\n",
        "-  `pcgita_split_filtered.csv`: Only valid samples with duration ≥ 0.3 sec\n",
        "-  `pcgita_split_skipped.csv`: Skipped samples with a reason for exclusion (e.g., file not found, too short)\n",
        "\n",
        "This step helps ensure the integrity of the dataset and prevents errors in downstream tasks like spectrogram generation or model training.\n"
      ],
      "metadata": {
        "id": "TJ1Im3ohJgIz"
      }
    },
    {
      "cell_type": "code",
      "source": [
        "# -------------------- SETUP --------------------\n",
        "import os\n",
        "import numpy as np\n",
        "import librosa\n",
        "import librosa.display\n",
        "import matplotlib.pyplot as plt\n",
        "import pandas as pd\n",
        "from tqdm import tqdm\n",
        "import random\n",
        "\n",
        "# === CONFIG ===\n",
        "CSV_PATH = \"/content/drive/MyDrive/PCGITA_RESULTS/pcgita_split_filtered.csv\"  # Use filtered CSV\n",
        "OUT_DIR = \"/content/drive/MyDrive/pcgita_images/mel_augmented\"\n",
        "IMG_SIZE = (224, 224)\n",
        "COLORMAP = 'inferno'\n",
        "SR = 16000\n",
        "\n",
        "# === LOAD DATA ===\n",
        "df = pd.read_csv(CSV_PATH)\n",
        "\n",
        "# === Helper: Get output image path ===\n",
        "def get_output_path(row, suffix=\"\"):\n",
        "    base = os.path.splitext(os.path.basename(row[\"Full_Path\"]))[0]\n",
        "    if suffix:\n",
        "        base += f\"_{suffix}\"\n",
        "    filename = base + \".png\"\n",
        "    return os.path.join(OUT_DIR, row[\"Task\"], row[\"Label\"], row[\"Speaker_ID\"], filename)\n",
        "\n",
        "# === Augmentation: time-stretch, pitch-shift ===\n",
        "def augment_audio(y, sr):\n",
        "    aug_list = [('orig', y)]\n",
        "\n",
        "    try:\n",
        "        y_stretch = librosa.effects.time_stretch(y, rate=random.uniform(0.9, 1.1))\n",
        "        aug_list.append(('stretch', y_stretch))\n",
        "    except:\n",
        "        pass\n",
        "\n",
        "    try:\n",
        "        y_pitch = librosa.effects.pitch_shift(y, sr=sr, n_steps=random.choice([-1, 1]))\n",
        "        aug_list.append(('pitch', y_pitch))\n",
        "    except:\n",
        "        pass\n",
        "\n",
        "    return aug_list\n",
        "\n",
        "# === Save Mel-Spectrogram Image ===\n",
        "def save_mel_spectrogram(y, sr, save_path):\n",
        "    try:\n",
        "        y = librosa.util.normalize(y)\n",
        "        y, _ = librosa.effects.trim(y)\n",
        "\n",
        "        S = librosa.feature.melspectrogram(y=y, sr=sr, n_mels=128)\n",
        "        S_dB = librosa.power_to_db(S, ref=np.max)\n",
        "\n",
        "        plt.figure(figsize=(2.24, 2.24), dpi=100)\n",
        "        librosa.display.specshow(S_dB, sr=sr, cmap=COLORMAP)\n",
        "        plt.axis(\"off\")\n",
        "        plt.tight_layout(pad=0)\n",
        "\n",
        "        os.makedirs(os.path.dirname(save_path), exist_ok=True)\n",
        "        plt.savefig(save_path, bbox_inches='tight', pad_inches=0)\n",
        "        plt.close()\n",
        "        return True\n",
        "    except Exception as e:\n",
        "        print(f\" Failed to save {save_path}: {e}\")\n",
        "        return False\n",
        "\n",
        "# === GENERATE ===\n",
        "success = 0\n",
        "\n",
        "for _, row in tqdm(df.iterrows(), total=len(df)):\n",
        "    wav_path = row[\"Full_Path\"]\n",
        "    try:\n",
        "        y, sr = librosa.load(wav_path, sr=SR)\n",
        "        augmentations = augment_audio(y, sr)\n",
        "\n",
        "        for suffix, y_aug in augmentations:\n",
        "            save_path = get_output_path(row, suffix=suffix)\n",
        "            if not os.path.exists(save_path):\n",
        "                if save_mel_spectrogram(y_aug, sr, save_path):\n",
        "                    success += 1\n",
        "\n",
        "    except Exception as e:\n",
        "        print(f\" Error reading {wav_path}: {e}\")\n",
        "\n",
        "print(f\" Done! {success} spectrograms saved including augmentations.\")\n"
      ],
      "metadata": {
        "colab": {
          "base_uri": "https://localhost:8080/"
        },
        "id": "cos8scuSRrXd",
        "outputId": "6d9f816b-b485-4128-85de-8641b489c0ef"
      },
      "execution_count": null,
      "outputs": [
        {
          "output_type": "stream",
          "name": "stderr",
          "text": [
            "100%|██████████| 6405/6405 [31:29<00:00,  3.39it/s]"
          ]
        },
        {
          "output_type": "stream",
          "name": "stdout",
          "text": [
            "✅ Done! 19152 spectrograms saved including augmentations.\n"
          ]
        },
        {
          "output_type": "stream",
          "name": "stderr",
          "text": [
            "\n"
          ]
        }
      ]
    },
    {
      "cell_type": "markdown",
      "source": [
        "### Audio Augmentation Visualization with Mel-Spectrograms\n",
        "\n",
        "This notebook demonstrates two common types of audio augmentation:\n",
        "- **Time-stretching**: Makes the audio slower or faster without changing pitch\n",
        "- **Pitch-shifting**: Changes pitch without altering duration\n",
        "\n",
        "#### Configuration\n",
        "- Audio is resampled to 16kHz and trimmed for silence\n",
        "- Three mel-spectrograms are computed:\n",
        "  - Original audio\n",
        "  - Time-stretched (0.8× slower)\n",
        "  - Pitch-shifted (+3 semitones)\n",
        "\n",
        "#### Visualization\n",
        "- All spectrograms are normalized with shared color scales (`vmin/vmax`) for accurate comparison\n",
        "- A side-by-side plot shows how augmentation changes frequency content and duration\n"
      ],
      "metadata": {
        "id": "tCUd1P_gJq5J"
      }
    },
    {
      "cell_type": "code",
      "source": [
        "import librosa\n",
        "import librosa.display\n",
        "import matplotlib.pyplot as plt\n",
        "import numpy as np\n",
        "\n",
        "# === CONFIG ===\n",
        "AUDIO_PATH = \"/content/drive/MyDrive/PC-GITA_per_task_44100Hz/PC-GITA_per_task_44100Hz/Words/Sin normalizar/Patologica/apto/AVPEPUDEA0001apto.wav\"  # <-- Change this to your audio path\n",
        "SR = 16000\n",
        "\n",
        "# === LOAD AND TRIM ORIGINAL AUDIO ===\n",
        "y_orig, _ = librosa.load(AUDIO_PATH, sr=SR)\n",
        "y_orig, _ = librosa.effects.trim(y_orig)\n",
        "\n",
        "# === AUGMENTATIONS ===\n",
        "y_stretch = librosa.effects.time_stretch(y_orig, rate=0.8)  # slower\n",
        "y_pitch = librosa.effects.pitch_shift(y_orig, sr=SR, n_steps=3)  # higher pitch\n",
        "\n",
        "# === HELPER: Compute consistent dB-scaled mel-spectrogram ===\n",
        "def compute_mel(y, sr):\n",
        "    S = librosa.feature.melspectrogram(y=y, sr=sr, n_mels=128)\n",
        "    S_dB = librosa.power_to_db(S, ref=np.max)\n",
        "    return S_dB\n",
        "\n",
        "# === Compute all spectrograms and set shared vmin/vmax ===\n",
        "S_orig = compute_mel(y_orig, SR)\n",
        "S_stretch = compute_mel(y_stretch, SR)\n",
        "S_pitch = compute_mel(y_pitch, SR)\n",
        "\n",
        "vmin = min(S_orig.min(), S_stretch.min(), S_pitch.min())\n",
        "vmax = max(S_orig.max(), S_stretch.max(), S_pitch.max())\n",
        "\n",
        "# === PLOT COMPARISON ===\n",
        "fig, axs = plt.subplots(1, 3, figsize=(15, 4))\n",
        "\n",
        "for ax, S, title in zip(\n",
        "    axs,\n",
        "    [S_orig, S_stretch, S_pitch],\n",
        "    [\"Original\", \"Time-Stretched (0.8×)\", \"Pitch-Shifted (+3 semitones)\"]\n",
        "):\n",
        "    img = librosa.display.specshow(S, sr=SR, cmap=COLORMAP, ax=ax, vmin=vmin, vmax=vmax)\n",
        "    ax.set_title(title, fontsize=11)\n",
        "    ax.axis('off')\n",
        "\n",
        "fig.colorbar(img, ax=axs, format='%+2.0f dB', orientation='vertical', shrink=0.6)\n",
        "plt.tight_layout()\n",
        "plt.show()\n",
        "\n",
        "# === OPTIONAL: Save figure ===\n",
        "# fig.savefig(\"comparison_spectrograms.png\", dpi=150, bbox_inches='tight')\n",
        "\n"
      ],
      "metadata": {
        "colab": {
          "base_uri": "https://localhost:8080/",
          "height": 442
        },
        "id": "qsc5H9fW6xPR",
        "outputId": "4dd7fbe3-dd85-4601-c697-03bebce80c0c"
      },
      "execution_count": null,
      "outputs": [
        {
          "output_type": "stream",
          "name": "stderr",
          "text": [
            "/tmp/ipython-input-4-420686500.py:45: UserWarning: This figure includes Axes that are not compatible with tight_layout, so results might be incorrect.\n",
            "  plt.tight_layout()\n"
          ]
        },
        {
          "output_type": "display_data",
          "data": {
            "text/plain": [
              "<Figure size 1500x400 with 4 Axes>"
            ],
            "image/png": "[encoded data removed]"
          },
          "metadata": {}
        }
      ]
    },
    {
      "cell_type": "markdown",
      "source": [
        "### Metadata Extraction for Augmented Mel-Spectrograms\n",
        "\n",
        "After generating mel-spectrograms with augmentations (original, time-stretch, and pitch-shift), this notebook collects metadata from the folder structure and saves it as a CSV for downstream training.\n",
        "\n",
        "#### Folder Structure Parsed:\n",
        "/pcgita_images/mel_augmented/{Task}/{Label}/{Speaker_ID}/{Filename}.png\n",
        "\n",
        "\n",
        "####  Extracted Metadata Includes:\n",
        "- `filename`: Full path to the spectrogram image\n",
        "- `label`: PD or HC\n",
        "- `speaker_id`: Participant identifier\n",
        "- `task`: Speech task (e.g., monologue, words)\n",
        "- `augmentation`: Type of augmentation:\n",
        "  - `orig`: Original spectrogram\n",
        "  - `stretch`: Time-stretched\n",
        "  - `pitch`: Pitch-shifted\n",
        "- `basename`: Base audio name without augmentation suffix\n",
        "\n",
        "####  Output:\n",
        "Saved as:\n",
        " /PCGITA_RESULTS/mel_metadata_augmented.csv\n"
      ],
      "metadata": {
        "id": "B1yv3w2rJxxx"
      }
    },
    {
      "cell_type": "code",
      "source": [
        "import os\n",
        "import pandas as pd\n",
        "\n",
        "# === CONFIG ===\n",
        "IMAGE_ROOT = \"/content/drive/MyDrive/pcgita_images/mel_augmented\"\n",
        "OUTPUT_CSV = \"/content/drive/MyDrive/PCGITA_RESULTS/mel_metadata_augmented.csv\"\n",
        "AUG_SUFFIXES = ['orig', 'stretch', 'pitch']\n",
        "\n",
        "# === Collect metadata from folder ===\n",
        "data = []\n",
        "\n",
        "for root, _, files in os.walk(IMAGE_ROOT):\n",
        "    for fname in files:\n",
        "        if not fname.endswith(\".png\"):\n",
        "            continue\n",
        "\n",
        "        full_path = os.path.join(root, fname)\n",
        "        rel_path = os.path.relpath(full_path, IMAGE_ROOT)\n",
        "\n",
        "        try:\n",
        "            parts = rel_path.split(os.sep)\n",
        "            task = parts[0]\n",
        "            label = parts[1]\n",
        "            speaker_id = parts[2]\n",
        "\n",
        "            base = os.path.splitext(fname)[0]\n",
        "            for suffix in AUG_SUFFIXES:\n",
        "                if base.endswith(f\"_{suffix}\"):\n",
        "                    basename = base.rsplit(f\"_{suffix}\", 1)[0]\n",
        "                    augmentation = suffix\n",
        "                    break\n",
        "            else:\n",
        "                basename = base\n",
        "                augmentation = \"unknown\"\n",
        "\n",
        "            data.append({\n",
        "                \"filename\": full_path,\n",
        "                \"label\": label,\n",
        "                \"speaker_id\": speaker_id,\n",
        "                \"task\": task,\n",
        "                \"augmentation\": augmentation,\n",
        "                \"basename\": basename\n",
        "            })\n",
        "\n",
        "        except Exception as e:\n",
        "            print(f\" Skipped: {full_path} → {e}\")\n",
        "\n",
        "# === Save CSV ===\n",
        "df_meta = pd.DataFrame(data)\n",
        "df_meta.to_csv(OUTPUT_CSV, index=False)\n",
        "print(f\" Metadata saved to: {OUTPUT_CSV} ({len(df_meta)} entries)\")\n"
      ],
      "metadata": {
        "colab": {
          "base_uri": "https://localhost:8080/"
        },
        "id": "soxmNvT7Rw-S",
        "outputId": "4e7db73a-3cc6-4623-9304-91cfe04bcd45"
      },
      "execution_count": null,
      "outputs": [
        {
          "output_type": "stream",
          "name": "stdout",
          "text": [
            "✅ Metadata saved to: /content/drive/MyDrive/PCGITA_RESULTS/mel_metadata_augmented.csv (19212 entries)\n"
          ]
        }
      ]
    },
    {
      "cell_type": "markdown",
      "source": [
        "### MFCC Plot Generation for CNN Input\n",
        "\n",
        "This notebook generates 2D image representations of MFCC features for each `.wav` file, enabling CNN-based classification directly from MFCC plots.\n",
        "\n",
        "####  Input\n",
        "- Source: `/PCGITA_RESULTS/pcgita_split_per_task.csv`\n",
        "- Each audio file is processed to extract **13 MFCC coefficients**\n",
        "\n",
        "####  Plotting Details\n",
        "- The MFCCs are converted to decibel scale\n",
        "- Each MFCC matrix is rendered as a 224×224 pixel image using the `inferno` colormap\n",
        "- Output images are saved in:\n",
        "\n",
        "/pcgita_images/mfcc/{Task}/{Label}/{Speaker_ID}/{filename}.png\n",
        "\n",
        "\n",
        "####  Output\n",
        "- Total plots generated are printed at the end\n",
        "- These MFCC plots can be used as an alternative to mel-spectrograms for CNN training\n"
      ],
      "metadata": {
        "id": "BNDaIMYEJ-fa"
      }
    },
    {
      "cell_type": "code",
      "source": [
        "# -------------------- SETUP --------------------\n",
        "import os\n",
        "import numpy as np\n",
        "import librosa\n",
        "import librosa.display\n",
        "import matplotlib.pyplot as plt\n",
        "import pandas as pd\n",
        "from tqdm import tqdm\n",
        "\n",
        "# === CONFIG ===\n",
        "CSV_PATH = \"/content/drive/MyDrive/PCGITA_RESULTS/pcgita_split_per_task.csv\"\n",
        "OUT_DIR = \"/content/drive/MyDrive/pcgita_images/mfcc\"\n",
        "IMG_SIZE = (224, 224)\n",
        "COLORMAP = \"inferno\"\n",
        "SR = 16000\n",
        "\n",
        "# === LOAD FILE SPLIT ===\n",
        "df = pd.read_csv(CSV_PATH)\n",
        "\n",
        "# === Construct output image path ===\n",
        "def get_output_path(row):\n",
        "    filename = os.path.splitext(os.path.basename(row[\"Full_Path\"]))[0] + \".png\"\n",
        "    return os.path.join(OUT_DIR, row[\"Task\"], row[\"Label\"], row[\"Speaker_ID\"], filename)\n",
        "\n",
        "df[\"mfcc_path\"] = df.apply(get_output_path, axis=1)\n",
        "\n",
        "# === MFCC PLOT SAVER ===\n",
        "def save_mfcc_plot(wav_path, save_path):\n",
        "    try:\n",
        "        y, sr = librosa.load(wav_path, sr=SR)\n",
        "        y, _ = librosa.effects.trim(y)\n",
        "\n",
        "        mfccs = librosa.feature.mfcc(y=y, sr=sr, n_mfcc=13)\n",
        "        mfccs_db = librosa.amplitude_to_db(np.abs(mfccs))\n",
        "\n",
        "        # Plot MFCCs\n",
        "        plt.figure(figsize=(2.24, 2.24), dpi=100)  # 224x224\n",
        "        librosa.display.specshow(mfccs_db, sr=sr, cmap=COLORMAP, x_axis=None, y_axis=None)\n",
        "        plt.axis('off')\n",
        "        plt.tight_layout(pad=0)\n",
        "\n",
        "        os.makedirs(os.path.dirname(save_path), exist_ok=True)\n",
        "        plt.savefig(save_path, bbox_inches='tight', pad_inches=0)\n",
        "        plt.close()\n",
        "        return True\n",
        "    except Exception as e:\n",
        "        print(f\" Failed: {wav_path} → {e}\")\n",
        "        return False\n",
        "\n",
        "# === GENERATE MFCC PLOTS ===\n",
        "success = 0\n",
        "for _, row in tqdm(df.iterrows(), total=len(df)):\n",
        "    wav_path = row[\"Full_Path\"]\n",
        "    save_path = row[\"mfcc_path\"]\n",
        "    if not os.path.exists(save_path):\n",
        "        if save_mfcc_plot(wav_path, save_path):\n",
        "            success += 1\n",
        "\n",
        "print(f\" MFCC plots saved: {success}/{len(df)}\")\n"
      ],
      "metadata": {
        "id": "lJlV3jxKZbFs",
        "colab": {
          "base_uri": "https://localhost:8080/"
        },
        "outputId": "5be2d757-2ddf-4d98-e8a4-723ca83725d5"
      },
      "execution_count": null,
      "outputs": [
        {
          "output_type": "stream",
          "name": "stderr",
          "text": [
            "100%|██████████| 6412/6412 [1:22:18<00:00,  1.30it/s]"
          ]
        },
        {
          "output_type": "stream",
          "name": "stdout",
          "text": [
            "✅ MFCC plots saved: 6411/6412\n"
          ]
        },
        {
          "output_type": "stream",
          "name": "stderr",
          "text": [
            "\n"
          ]
        }
      ]
    },
    {
      "cell_type": "markdown",
      "source": [
        "### MFCC Plot Generation with Data Augmentation\n",
        "\n",
        "This notebook extends basic MFCC plot generation by applying audio augmentations and saving one image per variation to increase training diversity.\n",
        "\n",
        "####  Augmentation Types\n",
        "For each `.wav` file:\n",
        "- `orig`: Original signal\n",
        "- `stretch`: Time-stretch (±10% speed)\n",
        "- `pitch`: Pitch-shift (±1 semitone)\n",
        "\n",
        "Each version is converted into a 224×224 MFCC image using the `inferno` colormap.\n",
        "\n",
        "####  Output Structure\n",
        "Images are saved to:\n",
        "/pcgita_images/mfcc_augmented/{Task}/{Label}/{Speaker_ID}/{basename}_{suffix}.png\n",
        "\n",
        "Where `{suffix}` is one of `orig`, `stretch`, or `pitch`.\n",
        "\n",
        "####  CSV Used:\n",
        "- Input: `pcgita_split_filtered.csv` (only valid audio samples)\n",
        "- Sampling rate: 16 kHz\n",
        "- Total image count printed after execution\n"
      ],
      "metadata": {
        "id": "0HG3vqQcKNjO"
      }
    },
    {
      "cell_type": "code",
      "source": [
        "# -------------------- SETUP --------------------\n",
        "import os\n",
        "import numpy as np\n",
        "import librosa\n",
        "import librosa.display\n",
        "import matplotlib.pyplot as plt\n",
        "import pandas as pd\n",
        "from tqdm import tqdm\n",
        "import random\n",
        "\n",
        "# === CONFIG ===\n",
        "CSV_PATH = \"/content/drive/MyDrive/PCGITA_RESULTS/pcgita_split_filtered.csv\"\n",
        "OUT_DIR = \"/content/drive/MyDrive/pcgita_images/mfcc_augmented\"\n",
        "COLORMAP = \"inferno\"\n",
        "SR = 16000\n",
        "IMG_SIZE = (224, 224)\n",
        "AUG_SUFFIXES = ['orig', 'stretch', 'pitch']\n",
        "\n",
        "# === LOAD SPLIT CSV ===\n",
        "df = pd.read_csv(CSV_PATH)\n",
        "\n",
        "# === Output Path Constructor ===\n",
        "def get_output_path(row, suffix=\"\"):\n",
        "    base = os.path.splitext(os.path.basename(row[\"Full_Path\"]))[0]\n",
        "    if suffix:\n",
        "        base += f\"_{suffix}\"\n",
        "    filename = base + \".png\"\n",
        "    return os.path.join(OUT_DIR, row[\"Task\"], row[\"Label\"], row[\"Speaker_ID\"], filename)\n",
        "\n",
        "# === Audio Augmentation ===\n",
        "def augment_audio(y, sr):\n",
        "    aug_list = [('orig', y)]\n",
        "    try:\n",
        "        y_stretch = librosa.effects.time_stretch(y, rate=random.uniform(0.9, 1.1))\n",
        "        aug_list.append(('stretch', y_stretch))\n",
        "    except:\n",
        "        pass\n",
        "    try:\n",
        "        y_pitch = librosa.effects.pitch_shift(y, sr=sr, n_steps=random.choice([-1, 1]))\n",
        "        aug_list.append(('pitch', y_pitch))\n",
        "    except:\n",
        "        pass\n",
        "    return aug_list\n",
        "\n",
        "# === Save MFCC Plot ===\n",
        "def save_mfcc_plot(y, sr, save_path):\n",
        "    try:\n",
        "        y = librosa.util.normalize(y)\n",
        "        y, _ = librosa.effects.trim(y)\n",
        "        mfccs = librosa.feature.mfcc(y=y, sr=sr, n_mfcc=13)\n",
        "        mfccs_db = librosa.amplitude_to_db(np.abs(mfccs))\n",
        "\n",
        "        plt.figure(figsize=(2.24, 2.24), dpi=100)\n",
        "        librosa.display.specshow(mfccs_db, sr=sr, cmap=COLORMAP)\n",
        "        plt.axis('off')\n",
        "        plt.tight_layout(pad=0)\n",
        "\n",
        "        os.makedirs(os.path.dirname(save_path), exist_ok=True)\n",
        "        plt.savefig(save_path, bbox_inches='tight', pad_inches=0)\n",
        "        plt.close()\n",
        "        return True\n",
        "    except Exception as e:\n",
        "        print(f\" Failed to save {save_path}: {e}\")\n",
        "        return False\n",
        "\n",
        "# === MAIN LOOP ===\n",
        "success = 0\n",
        "\n",
        "for _, row in tqdm(df.iterrows(), total=len(df)):\n",
        "    wav_path = row[\"Full_Path\"]\n",
        "    try:\n",
        "        y, sr = librosa.load(wav_path, sr=SR)\n",
        "        augmentations = augment_audio(y, sr)\n",
        "\n",
        "        for suffix, y_aug in augmentations:\n",
        "            save_path = get_output_path(row, suffix=suffix)\n",
        "            if not os.path.exists(save_path):\n",
        "                if save_mfcc_plot(y_aug, sr, save_path):\n",
        "                    success += 1\n",
        "    except Exception as e:\n",
        "        print(f\" Error loading {wav_path}: {e}\")\n",
        "\n",
        "print(f\" MFCC plots saved including augmentations: {success}\")\n"
      ],
      "metadata": {
        "colab": {
          "base_uri": "https://localhost:8080/"
        },
        "id": "lRbpkj6lI3f-",
        "outputId": "33360d1f-172f-4504-eb64-7fb8260ea6dc"
      },
      "execution_count": null,
      "outputs": [
        {
          "output_type": "stream",
          "name": "stderr",
          "text": [
            "100%|██████████| 6405/6405 [25:47<00:00,  4.14it/s]"
          ]
        },
        {
          "output_type": "stream",
          "name": "stdout",
          "text": [
            "✅ MFCC plots saved including augmentations: 19212\n"
          ]
        },
        {
          "output_type": "stream",
          "name": "stderr",
          "text": [
            "\n"
          ]
        }
      ]
    },
    {
      "cell_type": "markdown",
      "source": [
        "### Metadata Extraction for Augmented MFCC Plots\n",
        "\n",
        "This notebook parses the folder structure of augmented MFCC image files and creates a metadata CSV for use in CNN model training.\n",
        "\n",
        "####  Directory Format\n",
        "The augmented images are expected to be stored in:\n",
        "/pcgita_images/mfcc_augmented/{Task}/{Label}/{Speaker_ID}/{basename}_{suffix}.png\n",
        "\n",
        "Where:\n",
        "- `{suffix}` is one of:\n",
        "  - `orig` (original)\n",
        "  - `stretch` (time-stretched)\n",
        "  - `pitch` (pitch-shifted)\n",
        "\n",
        "####  Extracted Fields:\n",
        "Each row in the resulting metadata CSV contains:\n",
        "- `filename`: Full path to image\n",
        "- `label`: PD or HC\n",
        "- `speaker_id`: Participant ID\n",
        "- `task`: Speech task\n",
        "- `augmentation`: Augmentation type\n",
        "- `basename`: Original sample name (without suffix)\n",
        "\n",
        "####  Output:\n",
        "/PCGITA_RESULTS/mfcc_metadata_augmented.csv"
      ],
      "metadata": {
        "id": "d_AwUQDMKsC_"
      }
    },
    {
      "cell_type": "code",
      "source": [
        "import os\n",
        "import pandas as pd\n",
        "\n",
        "# === CONFIG ===\n",
        "IMAGE_ROOT = \"/content/drive/MyDrive/pcgita_images/mfcc_augmented\"\n",
        "OUTPUT_CSV = \"/content/drive/MyDrive/PCGITA_RESULTS/mfcc_metadata_augmented.csv\"\n",
        "AUG_SUFFIXES = ['orig', 'stretch', 'pitch']\n",
        "\n",
        "# === Collect metadata ===\n",
        "data = []\n",
        "\n",
        "for root, _, files in os.walk(IMAGE_ROOT):\n",
        "    for fname in files:\n",
        "        if not fname.endswith(\".png\"):\n",
        "            continue\n",
        "\n",
        "        full_path = os.path.join(root, fname)\n",
        "        rel_path = os.path.relpath(full_path, IMAGE_ROOT)\n",
        "\n",
        "        try:\n",
        "            parts = rel_path.split(os.sep)\n",
        "            task = parts[0]\n",
        "            label = parts[1]\n",
        "            speaker_id = parts[2]\n",
        "\n",
        "            base = os.path.splitext(fname)[0]\n",
        "            for suffix in AUG_SUFFIXES:\n",
        "                if base.endswith(f\"_{suffix}\"):\n",
        "                    basename = base.rsplit(f\"_{suffix}\", 1)[0]\n",
        "                    augmentation = suffix\n",
        "                    break\n",
        "            else:\n",
        "                basename = base\n",
        "                augmentation = \"unknown\"\n",
        "\n",
        "            data.append({\n",
        "                \"filename\": full_path,\n",
        "                \"label\": label,\n",
        "                \"speaker_id\": speaker_id,\n",
        "                \"task\": task,\n",
        "                \"augmentation\": augmentation,\n",
        "                \"basename\": basename\n",
        "            })\n",
        "\n",
        "        except Exception as e:\n",
        "            print(f\" Skipped: {full_path} → {e}\")\n",
        "\n",
        "# === Save CSV ===\n",
        "df_meta = pd.DataFrame(data)\n",
        "df_meta.to_csv(OUTPUT_CSV, index=False)\n",
        "print(f\" Metadata saved to: {OUTPUT_CSV} ({len(df_meta)} entries)\")\n"
      ],
      "metadata": {
        "colab": {
          "base_uri": "https://localhost:8080/"
        },
        "id": "0BoVjwomJ7YY",
        "outputId": "0bc1092d-df13-4d05-a9a1-77a8245c8b68"
      },
      "execution_count": null,
      "outputs": [
        {
          "output_type": "stream",
          "name": "stdout",
          "text": [
            "✅ Metadata saved to: /content/drive/MyDrive/PCGITA_RESULTS/mfcc_metadata_augmented.csv (19212 entries)\n"
          ]
        }
      ]
    },
    {
      "cell_type": "markdown",
      "source": [
        "### Generate Log-Spectrograms (No Augmentation)\n",
        "\n",
        "This notebook converts raw `.wav` audio files into 224×224 pixel **log-spectrogram** images using the Short-Time Fourier Transform (STFT).\n",
        "\n",
        "#### Configuration:\n",
        "- Sampling Rate: 16,000 Hz\n",
        "- FFT window size: 1024\n",
        "- Hop length: 512\n",
        "- Colormap: inferno\n",
        "- Image Size: 224×224\n",
        "\n",
        "#### Output Path Structure:\n",
        "/pcgita_images/logspec/{Task}/{Label}/{Speaker_ID}/{filename}.png"
      ],
      "metadata": {
        "id": "HekLE1tiZ1ox"
      }
    },
    {
      "cell_type": "code",
      "source": [
        "# -------------------- SETUP --------------------\n",
        "import os\n",
        "import numpy as np\n",
        "import librosa\n",
        "import librosa.display\n",
        "import matplotlib.pyplot as plt\n",
        "import pandas as pd\n",
        "from tqdm import tqdm\n",
        "\n",
        "# === CONFIG ===\n",
        "CSV_PATH = \"/content/drive/MyDrive/PCGITA_RESULTS/pcgita_split_per_task.csv\"\n",
        "OUT_DIR = \"/content/drive/MyDrive/pcgita_images/logspec\"\n",
        "IMG_SIZE = (224, 224)\n",
        "COLORMAP = \"inferno\"\n",
        "SR = 16000\n",
        "\n",
        "# === LOAD SPLIT CSV ===\n",
        "df = pd.read_csv(CSV_PATH)\n",
        "\n",
        "# === Construct output image path ===\n",
        "def get_output_path(row):\n",
        "    filename = os.path.splitext(os.path.basename(row[\"Full_Path\"]))[0] + \".png\"\n",
        "    return os.path.join(OUT_DIR, row[\"Task\"], row[\"Label\"], row[\"Speaker_ID\"], filename)\n",
        "\n",
        "df[\"logspec_path\"] = df.apply(get_output_path, axis=1)\n",
        "\n",
        "# === LOG-SPECTROGRAM PLOT SAVER ===\n",
        "def save_log_spectrogram(wav_path, save_path):\n",
        "    try:\n",
        "        y, sr = librosa.load(wav_path, sr=SR)\n",
        "        y, _ = librosa.effects.trim(y)\n",
        "\n",
        "        # Linear spectrogram\n",
        "        stft = librosa.stft(y, n_fft=1024, hop_length=512)\n",
        "        S_db = librosa.amplitude_to_db(np.abs(stft), ref=np.max)\n",
        "\n",
        "        # Plot\n",
        "        plt.figure(figsize=(2.24, 2.24), dpi=100)\n",
        "        librosa.display.specshow(S_db, sr=sr, cmap=COLORMAP)\n",
        "        plt.axis(\"off\")\n",
        "        plt.tight_layout(pad=0)\n",
        "\n",
        "        os.makedirs(os.path.dirname(save_path), exist_ok=True)\n",
        "        plt.savefig(save_path, bbox_inches=\"tight\", pad_inches=0)\n",
        "        plt.close()\n",
        "        return True\n",
        "    except Exception as e:\n",
        "        print(f\" Failed: {wav_path} → {e}\")\n",
        "        return False\n",
        "\n",
        "# === GENERATE LOG-SPECTROGRAM IMAGES ===\n",
        "success = 0\n",
        "for _, row in tqdm(df.iterrows(), total=len(df)):\n",
        "    wav_path = row[\"Full_Path\"]\n",
        "    save_path = row[\"logspec_path\"]\n",
        "    if not os.path.exists(save_path):\n",
        "        if save_log_spectrogram(wav_path, save_path):\n",
        "            success += 1\n",
        "\n",
        "print(f\" Log-spectrograms saved: {success}/{len(df)}\")\n"
      ],
      "metadata": {
        "id": "wxaTs_kCZ2Yq",
        "colab": {
          "base_uri": "https://localhost:8080/"
        },
        "outputId": "e4f9bd6a-7900-4d53-8e16-bdd16fed4196"
      },
      "execution_count": null,
      "outputs": [
        {
          "output_type": "stream",
          "name": "stderr",
          "text": [
            "100%|██████████| 6412/6412 [31:37<00:00,  3.38it/s]"
          ]
        },
        {
          "output_type": "stream",
          "name": "stdout",
          "text": [
            "✅ Log-spectrograms saved: 6411/6412\n"
          ]
        },
        {
          "output_type": "stream",
          "name": "stderr",
          "text": [
            "\n"
          ]
        }
      ]
    },
    {
      "cell_type": "markdown",
      "source": [
        "### Generate Augmented Log-Spectrograms\n",
        "\n",
        "This notebook creates log-spectrograms from filtered `.wav` files, applying three variants per sample:\n",
        "- Original\n",
        "- Time-stretched (0.9×–1.1×)\n",
        "- Pitch-shifted (+/- 1 semitone)\n",
        "\n",
        "####  Processing Details:\n",
        "- Sampling Rate: 16,000 Hz\n",
        "- STFT: n\\_fft=1024, hop\\_length=512\n",
        "- Spectrogram size: 224×224 pixels\n",
        "- Colormap: inferno\n",
        "\n",
        "####  Augmentations Applied:\n",
        "- `orig`: Original trimmed waveform\n",
        "- `stretch`: Time-stretch with random rate\n",
        "- `pitch`: Pitch shift with ±1 semitone\n",
        "\n",
        "####  Output Directory Structure:\n",
        "/pcgita_images/logspec_augmented/{Task}/{Label}/{Speaker_ID}/{basename}_{suffix}.png"
      ],
      "metadata": {
        "id": "9KQp8TBfLaur"
      }
    },
    {
      "cell_type": "code",
      "source": [
        "# -------------------- SETUP --------------------\n",
        "import os\n",
        "import numpy as np\n",
        "import librosa\n",
        "import librosa.display\n",
        "import matplotlib.pyplot as plt\n",
        "import pandas as pd\n",
        "from tqdm import tqdm\n",
        "import random\n",
        "\n",
        "# === CONFIG ===\n",
        "CSV_PATH = \"/content/drive/MyDrive/PCGITA_RESULTS/pcgita_split_filtered.csv\"\n",
        "OUT_DIR = \"/content/drive/MyDrive/pcgita_images/logspec_augmented\"\n",
        "COLORMAP = \"inferno\"\n",
        "SR = 16000\n",
        "IMG_SIZE = (224, 224)\n",
        "AUG_SUFFIXES = ['orig', 'stretch', 'pitch']\n",
        "\n",
        "# === LOAD SPLIT CSV ===\n",
        "df = pd.read_csv(CSV_PATH)\n",
        "\n",
        "# === Output Path Generator ===\n",
        "def get_output_path(row, suffix=\"\"):\n",
        "    base = os.path.splitext(os.path.basename(row[\"Full_Path\"]))[0]\n",
        "    if suffix:\n",
        "        base += f\"_{suffix}\"\n",
        "    filename = base + \".png\"\n",
        "    return os.path.join(OUT_DIR, row[\"Task\"], row[\"Label\"], row[\"Speaker_ID\"], filename)\n",
        "\n",
        "# === Audio Augmentation ===\n",
        "def augment_audio(y, sr):\n",
        "    aug_list = [('orig', y)]\n",
        "    try:\n",
        "        y_stretch = librosa.effects.time_stretch(y, rate=random.uniform(0.9, 1.1))\n",
        "        aug_list.append(('stretch', y_stretch))\n",
        "    except:\n",
        "        pass\n",
        "    try:\n",
        "        y_pitch = librosa.effects.pitch_shift(y, sr=sr, n_steps=random.choice([-1, 1]))\n",
        "        aug_list.append(('pitch', y_pitch))\n",
        "    except:\n",
        "        pass\n",
        "    return aug_list\n",
        "\n",
        "# === Save Log-Spectrogram ===\n",
        "def save_log_spectrogram(y, sr, save_path):\n",
        "    try:\n",
        "        y = librosa.util.normalize(y)\n",
        "        y, _ = librosa.effects.trim(y)\n",
        "        stft = librosa.stft(y, n_fft=1024, hop_length=512)\n",
        "        S_db = librosa.amplitude_to_db(np.abs(stft), ref=np.max)\n",
        "\n",
        "        plt.figure(figsize=(2.24, 2.24), dpi=100)\n",
        "        librosa.display.specshow(S_db, sr=sr, cmap=COLORMAP)\n",
        "        plt.axis(\"off\")\n",
        "        plt.tight_layout(pad=0)\n",
        "\n",
        "        os.makedirs(os.path.dirname(save_path), exist_ok=True)\n",
        "        plt.savefig(save_path, bbox_inches=\"tight\", pad_inches=0)\n",
        "        plt.close()\n",
        "        return True\n",
        "    except Exception as e:\n",
        "        print(f\" Failed to save {save_path}: {e}\")\n",
        "        return False\n",
        "\n",
        "# === MAIN LOOP ===\n",
        "success = 0\n",
        "\n",
        "for _, row in tqdm(df.iterrows(), total=len(df)):\n",
        "    wav_path = row[\"Full_Path\"]\n",
        "    try:\n",
        "        y, sr = librosa.load(wav_path, sr=SR)\n",
        "        augmentations = augment_audio(y, sr)\n",
        "\n",
        "        for suffix, y_aug in augmentations:\n",
        "            save_path = get_output_path(row, suffix=suffix)\n",
        "            if not os.path.exists(save_path):\n",
        "                if save_log_spectrogram(y_aug, sr, save_path):\n",
        "                    success += 1\n",
        "    except Exception as e:\n",
        "        print(f\" Error loading {wav_path}: {e}\")\n",
        "\n",
        "print(f\" Log-spectrograms saved including augmentations: {success}\")\n"
      ],
      "metadata": {
        "colab": {
          "base_uri": "https://localhost:8080/"
        },
        "id": "pyMPz0-rSfFq",
        "outputId": "fc6ce187-41a9-4d23-871d-45d6c64a5624"
      },
      "execution_count": null,
      "outputs": [
        {
          "output_type": "stream",
          "name": "stderr",
          "text": [
            " 97%|█████████▋| 6238/6405 [27:56<13:27,  4.83s/it]"
          ]
        }
      ]
    },
    {
      "cell_type": "markdown",
      "source": [
        "### Metadata Extraction for Augmented Log-Spectrograms\n",
        "\n",
        "This notebook creates a metadata table for log-spectrogram images stored in:\n",
        "\n",
        "/pcgita_images/logspec_augmented/{Task}/{Label}/{Speaker_ID}/{basename}_{suffix}.png\n",
        "\n",
        "####  Input Directory Structure\n",
        "- `Task`: Speech task (e.g., monologue, vowels)\n",
        "- `Label`: PD or HC\n",
        "- `Speaker_ID`: Unique participant ID\n",
        "- `{suffix}`: Indicates augmentation type:\n",
        "  - `orig`: Original\n",
        "  - `stretch`: Time-stretched\n",
        "  - `pitch`: Pitch-shifted\n",
        "\n",
        "####  Metadata Fields Collected\n",
        "- `filename`: Full path to image\n",
        "- `label`: PD or HC\n",
        "- `speaker_id`: Participant ID\n",
        "- `task`: Speech task\n",
        "- `augmentation`: `orig`, `stretch`, `pitch`, or `unknown`\n",
        "- `basename`: File base name without augmentation suffix\n",
        "\n",
        "####  Output\n",
        "Metadata is saved to:\n",
        " /PCGITA_RESULTS/logspec_metadata_augmented.csv"
      ],
      "metadata": {
        "id": "lByzpUNOLTFq"
      }
    },
    {
      "cell_type": "code",
      "source": [
        "import os\n",
        "import pandas as pd\n",
        "\n",
        "# === CONFIG ===\n",
        "IMAGE_ROOT = \"/content/drive/MyDrive/pcgita_images/logspec_augmented\"\n",
        "OUTPUT_CSV = \"/content/drive/MyDrive/PCGITA_RESULTS/logspec_metadata_augmented.csv\"\n",
        "AUG_SUFFIXES = ['orig', 'stretch', 'pitch']\n",
        "\n",
        "# === Collect metadata ===\n",
        "data = []\n",
        "\n",
        "for root, _, files in os.walk(IMAGE_ROOT):\n",
        "    for fname in files:\n",
        "        if not fname.endswith(\".png\"):\n",
        "            continue\n",
        "\n",
        "        full_path = os.path.join(root, fname)\n",
        "        rel_path = os.path.relpath(full_path, IMAGE_ROOT)\n",
        "\n",
        "        try:\n",
        "            parts = rel_path.split(os.sep)\n",
        "            task = parts[0]\n",
        "            label = parts[1]\n",
        "            speaker_id = parts[2]\n",
        "\n",
        "            base = os.path.splitext(fname)[0]\n",
        "            for suffix in AUG_SUFFIXES:\n",
        "                if base.endswith(f\"_{suffix}\"):\n",
        "                    basename = base.rsplit(f\"_{suffix}\", 1)[0]\n",
        "                    augmentation = suffix\n",
        "                    break\n",
        "            else:\n",
        "                basename = base\n",
        "                augmentation = \"unknown\"\n",
        "\n",
        "            data.append({\n",
        "                \"filename\": full_path,\n",
        "                \"label\": label,\n",
        "                \"speaker_id\": speaker_id,\n",
        "                \"task\": task,\n",
        "                \"augmentation\": augmentation,\n",
        "                \"basename\": basename\n",
        "            })\n",
        "\n",
        "        except Exception as e:\n",
        "            print(f\" Skipped: {full_path} → {e}\")\n",
        "\n",
        "# === Save CSV ===\n",
        "df_meta = pd.DataFrame(data)\n",
        "df_meta.to_csv(OUTPUT_CSV, index=False)\n",
        "print(f\" Metadata saved to: {OUTPUT_CSV} ({len(df_meta)} entries)\")\n"
      ],
      "metadata": {
        "colab": {
          "base_uri": "https://localhost:8080/"
        },
        "id": "b0xw8wouSkYa",
        "outputId": "00771460-e36a-4f9a-ebf2-c35c3eda6d24"
      },
      "execution_count": null,
      "outputs": [
        {
          "output_type": "stream",
          "name": "stdout",
          "text": [
            "✅ Metadata saved to: /content/drive/MyDrive/PCGITA_RESULTS/logspec_metadata_augmented.csv (18713 entries)\n"
          ]
        }
      ]
    },
    {
      "cell_type": "markdown",
      "source": [
        "###  Ensemble Metadata Merging (Mel + MFCC + Log-Spectrogram)\n",
        "\n",
        "This notebook merges metadata from three types of spectrogram-based image inputs:\n",
        "- **Mel-spectrograms**\n",
        "- **MFCC plots**\n",
        "- **Log-spectrograms**\n",
        "\n",
        "The goal is to prepare a unified metadata file for training **ensemble CNN models** that take multiple views of the same speech signal as input.\n",
        "\n",
        "####  Merge Keys\n",
        "Each entry is matched across all views using:\n",
        "- `task`, `label`, `speaker_id`, `augmentation`, `basename`\n",
        "\n",
        "This ensures that the mel, MFCC, and log-spectrogram images refer to the **same original `.wav` file** and augmentation type.\n",
        "\n",
        "####  Input Files:\n",
        "- `mel_metadata_augmented.csv`\n",
        "- `mfcc_metadata_augmented.csv`\n",
        "- `logspec_metadata_augmented.csv`\n",
        "\n",
        "####  Output File:\n",
        "Saved as:\n",
        "/PCGITA_RESULTS/ensemble_metadata_merged.csv\n",
        "\n",
        "\n",
        "####  Columns:\n",
        "- `filename_mel`: Path to mel-spectrogram image\n",
        "- `filename_mfcc`: Path to MFCC plot image\n",
        "- `filename_logspec`: Path to log-spectrogram image\n",
        "- Plus: `label`, `speaker_id`, `task`, `augmentation`, `basename`\n",
        "\n",
        "This file is used to build multi-branch ensemble CNN models."
      ],
      "metadata": {
        "id": "OPSKabIDTl11"
      }
    },
    {
      "cell_type": "code",
      "source": [
        "# -------------------- SETUP --------------------\n",
        "import pandas as pd\n",
        "import os\n",
        "\n",
        "# === CONFIG ===\n",
        "MEL_CSV = \"/content/drive/MyDrive/PCGITA_RESULTS/mel_metadata_augmented.csv\"\n",
        "MFCC_CSV = \"/content/drive/MyDrive/PCGITA_RESULTS/mfcc_metadata_augmented.csv\"\n",
        "LOGSPEC_CSV = \"/content/drive/MyDrive/PCGITA_RESULTS/logspec_metadata_augmented.csv\"\n",
        "OUTPUT_CSV = \"/content/drive/MyDrive/PCGITA_RESULTS/ensemble_metadata_merged.csv\"\n",
        "\n",
        "# === LOAD ===\n",
        "df_mel = pd.read_csv(MEL_CSV)\n",
        "df_mfcc = pd.read_csv(MFCC_CSV)\n",
        "df_logspec = pd.read_csv(LOGSPEC_CSV)\n",
        "\n",
        "# === SANITY: Ensure consistent keys ===\n",
        "key_cols = [\"task\", \"label\", \"speaker_id\", \"augmentation\", \"basename\"]\n",
        "\n",
        "# Add task column if missing (for older versions)\n",
        "for df in [df_mel, df_mfcc, df_logspec]:\n",
        "    if \"task\" not in df.columns:\n",
        "        df[\"task\"] = df[\"filename\"].apply(lambda x: x.split(os.sep)[-4])\n",
        "\n",
        "# === Merge by keys ===\n",
        "df_merged = df_mel.merge(\n",
        "    df_mfcc, on=key_cols, suffixes=(\"_mel\", \"_mfcc\")\n",
        ").merge(\n",
        "    df_logspec, on=key_cols\n",
        ").rename(columns={\"filename\": \"filename_logspec\"})\n",
        "\n",
        "# Final column order\n",
        "df_merged = df_merged[[\n",
        "    \"filename_mel\", \"filename_mfcc\", \"filename_logspec\",\n",
        "    \"label\", \"speaker_id\", \"task\", \"augmentation\", \"basename\"\n",
        "]]\n",
        "\n",
        "# === SAVE ===\n",
        "df_merged.to_csv(OUTPUT_CSV, index=False)\n",
        "print(f\" Ensemble metadata saved: {OUTPUT_CSV} ({len(df_merged)} entries)\")\n"
      ],
      "metadata": {
        "colab": {
          "base_uri": "https://localhost:8080/"
        },
        "id": "TtFAGgK0T61f",
        "outputId": "1ba76bf5-32d0-44a3-c44e-759c428812b7"
      },
      "execution_count": null,
      "outputs": [
        {
          "output_type": "stream",
          "name": "stdout",
          "text": [
            "✅ Ensemble metadata saved: /content/drive/MyDrive/PCGITA_RESULTS/ensemble_metadata_merged.csv (18713 entries)\n"
          ]
        }
      ]
    }
  ]
}